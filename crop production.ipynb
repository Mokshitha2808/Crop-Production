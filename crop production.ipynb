{
 "cells": [
  {
   "cell_type": "code",
   "execution_count": 1,
   "id": "f4168e74",
   "metadata": {},
   "outputs": [],
   "source": [
    "import pandas as pd\n",
    "import numpy as np\n",
    "import matplotlib.pyplot as plt"
   ]
  },
  {
   "cell_type": "code",
   "execution_count": 2,
   "id": "44d288fa",
   "metadata": {},
   "outputs": [],
   "source": [
    "data = pd.read_csv(\"Crop Production data.csv\")"
   ]
  },
  {
   "cell_type": "code",
   "execution_count": 3,
   "id": "eb82f3f6",
   "metadata": {},
   "outputs": [
    {
     "data": {
      "text/html": [
       "<div>\n",
       "<style scoped>\n",
       "    .dataframe tbody tr th:only-of-type {\n",
       "        vertical-align: middle;\n",
       "    }\n",
       "\n",
       "    .dataframe tbody tr th {\n",
       "        vertical-align: top;\n",
       "    }\n",
       "\n",
       "    .dataframe thead th {\n",
       "        text-align: right;\n",
       "    }\n",
       "</style>\n",
       "<table border=\"1\" class=\"dataframe\">\n",
       "  <thead>\n",
       "    <tr style=\"text-align: right;\">\n",
       "      <th></th>\n",
       "      <th>State_Name</th>\n",
       "      <th>District_Name</th>\n",
       "      <th>Crop_Year</th>\n",
       "      <th>Season</th>\n",
       "      <th>Crop</th>\n",
       "      <th>Area</th>\n",
       "      <th>Production</th>\n",
       "    </tr>\n",
       "  </thead>\n",
       "  <tbody>\n",
       "    <tr>\n",
       "      <th>0</th>\n",
       "      <td>Andaman and Nicobar Islands</td>\n",
       "      <td>NICOBARS</td>\n",
       "      <td>2000</td>\n",
       "      <td>Kharif</td>\n",
       "      <td>Arecanut</td>\n",
       "      <td>1254.0</td>\n",
       "      <td>2000.0</td>\n",
       "    </tr>\n",
       "    <tr>\n",
       "      <th>1</th>\n",
       "      <td>Andaman and Nicobar Islands</td>\n",
       "      <td>NICOBARS</td>\n",
       "      <td>2000</td>\n",
       "      <td>Kharif</td>\n",
       "      <td>Other Kharif pulses</td>\n",
       "      <td>2.0</td>\n",
       "      <td>1.0</td>\n",
       "    </tr>\n",
       "    <tr>\n",
       "      <th>2</th>\n",
       "      <td>Andaman and Nicobar Islands</td>\n",
       "      <td>NICOBARS</td>\n",
       "      <td>2000</td>\n",
       "      <td>Kharif</td>\n",
       "      <td>Rice</td>\n",
       "      <td>102.0</td>\n",
       "      <td>321.0</td>\n",
       "    </tr>\n",
       "    <tr>\n",
       "      <th>3</th>\n",
       "      <td>Andaman and Nicobar Islands</td>\n",
       "      <td>NICOBARS</td>\n",
       "      <td>2000</td>\n",
       "      <td>Whole Year</td>\n",
       "      <td>Banana</td>\n",
       "      <td>176.0</td>\n",
       "      <td>641.0</td>\n",
       "    </tr>\n",
       "    <tr>\n",
       "      <th>4</th>\n",
       "      <td>Andaman and Nicobar Islands</td>\n",
       "      <td>NICOBARS</td>\n",
       "      <td>2000</td>\n",
       "      <td>Whole Year</td>\n",
       "      <td>Cashewnut</td>\n",
       "      <td>720.0</td>\n",
       "      <td>165.0</td>\n",
       "    </tr>\n",
       "  </tbody>\n",
       "</table>\n",
       "</div>"
      ],
      "text/plain": [
       "                    State_Name District_Name  Crop_Year       Season  \\\n",
       "0  Andaman and Nicobar Islands      NICOBARS       2000  Kharif        \n",
       "1  Andaman and Nicobar Islands      NICOBARS       2000  Kharif        \n",
       "2  Andaman and Nicobar Islands      NICOBARS       2000  Kharif        \n",
       "3  Andaman and Nicobar Islands      NICOBARS       2000  Whole Year    \n",
       "4  Andaman and Nicobar Islands      NICOBARS       2000  Whole Year    \n",
       "\n",
       "                  Crop    Area  Production  \n",
       "0             Arecanut  1254.0      2000.0  \n",
       "1  Other Kharif pulses     2.0         1.0  \n",
       "2                 Rice   102.0       321.0  \n",
       "3               Banana   176.0       641.0  \n",
       "4            Cashewnut   720.0       165.0  "
      ]
     },
     "execution_count": 3,
     "metadata": {},
     "output_type": "execute_result"
    }
   ],
   "source": [
    "data.head()"
   ]
  },
  {
   "cell_type": "code",
   "execution_count": 4,
   "id": "10c12b69",
   "metadata": {},
   "outputs": [
    {
     "data": {
      "text/plain": [
       "(246091, 7)"
      ]
     },
     "execution_count": 4,
     "metadata": {},
     "output_type": "execute_result"
    }
   ],
   "source": [
    "data.shape"
   ]
  },
  {
   "cell_type": "code",
   "execution_count": 5,
   "id": "171d62db",
   "metadata": {},
   "outputs": [
    {
     "data": {
      "text/plain": [
       "State_Name          0\n",
       "District_Name       0\n",
       "Crop_Year           0\n",
       "Season              0\n",
       "Crop                0\n",
       "Area                0\n",
       "Production       3730\n",
       "dtype: int64"
      ]
     },
     "execution_count": 5,
     "metadata": {},
     "output_type": "execute_result"
    }
   ],
   "source": [
    "data.isnull().sum()"
   ]
  },
  {
   "cell_type": "code",
   "execution_count": 6,
   "id": "76298e63",
   "metadata": {},
   "outputs": [],
   "source": [
    "data.dropna(inplace=True)"
   ]
  },
  {
   "cell_type": "code",
   "execution_count": 7,
   "id": "26582006",
   "metadata": {},
   "outputs": [
    {
     "data": {
      "text/plain": [
       "False"
      ]
     },
     "execution_count": 7,
     "metadata": {},
     "output_type": "execute_result"
    }
   ],
   "source": [
    "data.isnull().values.any()"
   ]
  },
  {
   "cell_type": "code",
   "execution_count": 8,
   "id": "f85d4869",
   "metadata": {},
   "outputs": [
    {
     "data": {
      "text/plain": [
       "array(['Kharif     ', 'Whole Year ', 'Autumn     ', 'Rabi       ',\n",
       "       'Summer     ', 'Winter     '], dtype=object)"
      ]
     },
     "execution_count": 8,
     "metadata": {},
     "output_type": "execute_result"
    }
   ],
   "source": [
    "data.Season.unique()"
   ]
  },
  {
   "cell_type": "code",
   "execution_count": 9,
   "id": "83073ed7",
   "metadata": {},
   "outputs": [],
   "source": [
    "data['Season'] = data['Season'].apply(lambda x: x.strip())\n",
    "data['Crop'] = data['Crop'].apply(lambda x: x.strip())\n",
    "data['State_Name'] = data['State_Name'].apply(lambda x: x.strip())"
   ]
  },
  {
   "cell_type": "code",
   "execution_count": 10,
   "id": "04b29cad",
   "metadata": {},
   "outputs": [
    {
     "data": {
      "text/plain": [
       "array(['Kharif', 'Whole Year', 'Autumn', 'Rabi', 'Summer', 'Winter'],\n",
       "      dtype=object)"
      ]
     },
     "execution_count": 10,
     "metadata": {},
     "output_type": "execute_result"
    }
   ],
   "source": [
    "data.Season.unique()"
   ]
  },
  {
   "cell_type": "code",
   "execution_count": 11,
   "id": "3a1ae963",
   "metadata": {},
   "outputs": [
    {
     "data": {
      "text/plain": [
       "Kharif        94283\n",
       "Rabi          66160\n",
       "Whole Year    56127\n",
       "Summer        14811\n",
       "Winter         6050\n",
       "Autumn         4930\n",
       "Name: Season, dtype: int64"
      ]
     },
     "execution_count": 11,
     "metadata": {},
     "output_type": "execute_result"
    }
   ],
   "source": [
    "data['Season'].value_counts()"
   ]
  },
  {
   "cell_type": "code",
   "execution_count": 12,
   "id": "47eac873",
   "metadata": {},
   "outputs": [],
   "source": [
    "data['Season'] = data['Season'].apply(lambda x : x.replace('Autumn','Kharif'))\n",
    "data['Season'] = data['Season'].apply(lambda x : x.replace('Summer','Kharif'))\n",
    "data['Season'] = data['Season'].apply(lambda x : x.replace('Winter','Rabi'))"
   ]
  },
  {
   "cell_type": "code",
   "execution_count": 13,
   "id": "e35ff502",
   "metadata": {},
   "outputs": [
    {
     "data": {
      "text/plain": [
       "Kharif        114024\n",
       "Rabi           72210\n",
       "Whole Year     56127\n",
       "Name: Season, dtype: int64"
      ]
     },
     "execution_count": 13,
     "metadata": {},
     "output_type": "execute_result"
    }
   ],
   "source": [
    "data['Season'].value_counts()"
   ]
  },
  {
   "cell_type": "code",
   "execution_count": 14,
   "id": "d073d59b",
   "metadata": {},
   "outputs": [
    {
     "data": {
      "text/plain": [
       "(242361, 7)"
      ]
     },
     "execution_count": 14,
     "metadata": {},
     "output_type": "execute_result"
    }
   ],
   "source": [
    "data.shape"
   ]
  },
  {
   "cell_type": "code",
   "execution_count": 15,
   "id": "3ab4d0c5",
   "metadata": {},
   "outputs": [],
   "source": [
    "data.drop(data[data['Production']==0].index,inplace=True)"
   ]
  },
  {
   "cell_type": "code",
   "execution_count": 16,
   "id": "701957dd",
   "metadata": {},
   "outputs": [
    {
     "data": {
      "text/plain": [
       "(238838, 7)"
      ]
     },
     "execution_count": 16,
     "metadata": {},
     "output_type": "execute_result"
    }
   ],
   "source": [
    "data.shape"
   ]
  },
  {
   "cell_type": "code",
   "execution_count": 17,
   "id": "5e270ab3",
   "metadata": {},
   "outputs": [
    {
     "data": {
      "text/plain": [
       "array(['Arecanut', 'Other Kharif pulses', 'Rice', 'Banana', 'Cashewnut',\n",
       "       'Coconut', 'Dry ginger', 'Sugarcane', 'Sweet potato', 'Tapioca',\n",
       "       'Black pepper', 'Dry chillies', 'other oilseeds', 'Turmeric',\n",
       "       'Maize', 'Moong(Green Gram)', 'Urad', 'Arhar/Tur', 'Groundnut',\n",
       "       'Sunflower', 'Bajra', 'Castor seed', 'Cotton(lint)', 'Horse-gram',\n",
       "       'Jowar', 'Korra', 'Ragi', 'Tobacco', 'Gram', 'Wheat', 'Masoor',\n",
       "       'Sesamum', 'Linseed', 'Safflower', 'Onion', 'other misc. pulses',\n",
       "       'Samai', 'Small millets', 'Coriander', 'Potato',\n",
       "       'Other  Rabi pulses', 'Beans & Mutter(Vegetable)', 'Bhindi',\n",
       "       'Brinjal', 'Citrus Fruit', 'Grapes', 'Mango', 'Orange',\n",
       "       'Other Fresh Fruits', 'Papaya', 'Pome Fruit', 'Tomato', 'Soyabean',\n",
       "       'Mesta', 'Cowpea(Lobia)', 'Lemon', 'Pome Granet', 'Sapota',\n",
       "       'Cabbage', 'Rapeseed &Mustard', 'Niger seed', 'Varagu', 'Garlic',\n",
       "       'Ginger', 'Oilseeds total', 'Pulses total', 'Jute',\n",
       "       'Peas & beans (Pulses)', 'Blackgram', 'Paddy', 'Pineapple',\n",
       "       'Barley', 'Sannhamp', 'Khesari', 'Guar seed', 'Other Vegetables',\n",
       "       'Moth', 'Other Cereals & Millets', 'Cond-spcs other', 'Turnip',\n",
       "       'Carrot', 'Redish', 'Arcanut (Processed)', 'Atcanut (Raw)',\n",
       "       'Cashewnut Processed', 'Cashewnut Raw', 'Cardamom', 'Rubber',\n",
       "       'Drum Stick', 'Jack Fruit', 'Tea', 'Coffee', 'Total foodgrain',\n",
       "       'Cauliflower', 'Bitter Gourd', 'Bottle Gourd', 'Kapas',\n",
       "       'Colocosia', 'Lentil', 'Bean', 'Jobster', 'Perilla',\n",
       "       'Rajmash Kholar', 'Ricebean (nagadal)', 'Jute & mesta'],\n",
       "      dtype=object)"
      ]
     },
     "execution_count": 17,
     "metadata": {},
     "output_type": "execute_result"
    }
   ],
   "source": [
    "data.Crop.unique()"
   ]
  },
  {
   "cell_type": "code",
   "execution_count": 18,
   "id": "8a1fef69",
   "metadata": {},
   "outputs": [],
   "source": [
    "data.replace('Kapas','Cotton',inplace=True)\n",
    "data.replace('Cotton(lint)','Cotton',inplace=True)\n",
    "data.replace('Jute & mesta','Jute',inplace=True)\n",
    "data.replace('Mesta','Jute',inplace=True)"
   ]
  },
  {
   "cell_type": "code",
   "execution_count": 19,
   "id": "939cffbb",
   "metadata": {},
   "outputs": [],
   "source": [
    "data['Crop'] = data['Crop'].apply(lambda x:x.replace('Other Kharif pulses','pulses')\n",
    "                                 .replace('Other  Rabi pulses','pulses')\n",
    "                                 .replace('Peas & beans (Pulses)','pulses')\n",
    "                                 .replace('Pulses total','pulses')\n",
    "                                 .replace('other misc. pulses','pulses')\n",
    "                                 .replace('Moong(Green Gram)','pulses')\n",
    "                                 .replace('Urad','pulses')\n",
    "                                 .replace('Arhar/Tur','pulses')\n",
    "                                 .replace('Bean','pulses')\n",
    "                                 .replace('Ricebean (nagadal)','pulses')\n",
    "                                 .replace('Lentil','pulses')\n",
    "                                 .replace('Khesari','pulses')\n",
    "                                 .replace('Horse-gram','pulses')\n",
    "                                 .replace('Rajmash Kholar','pulses'))\n",
    "\n",
    "data['Crop'] = data['Crop'].apply(lambda x:x.replace('Atcanut (Raw)','Arecanut')\n",
    "                                 .replace('Arcanut (Processed)','Arecanut'))\n",
    "\n",
    "data['Crop'] = data['Crop'].apply(lambda x:x.replace('Black pepper','Other Spices')\n",
    "                                 .replace('Cardamon','Other Spices')\n",
    "                                 .replace('Perilla','Other Spices'))\n",
    "\n",
    "data['Crop'] = data['Crop'].apply(lambda x:x.replace('Papaya','Fruits')\n",
    "                                 .replace('Mango','Fruits')\n",
    "                                 .replace('Orange','Fruits')\n",
    "                                 .replace('Other Fresh Fruits','Fruits')\n",
    "                                 .replace('Grapes','Fruits')\n",
    "                                 .replace('Pome Fruit','Fruits')\n",
    "                                 .replace('Pome Granet','Fruits')\n",
    "                                 .replace('Jack Fruit','Fruits')\n",
    "                                 .replace('Sapota','Fruits')\n",
    "                                 .replace('Lemon','Fruits')\n",
    "                                 .replace('Citrus Fruit','Fruits')\n",
    "                                 .replace('Banana','Fruits'))\n",
    "\n",
    "data['Crop']=data['Crop'].apply(lambda x:x\n",
    "                                    .replace('Ginger','Dry ginger'))\n",
    "\n",
    "data['Crop']=data['Crop'].apply(lambda x:x\n",
    "                                    .replace('Turnip','Onion'))\n",
    "\n",
    "data['Crop']=data['Crop'].apply(lambda x:x\n",
    "                                      .replace('Cashewnut Raw','Cashewnut')\n",
    "                                      .replace('Cashewnut Processed','Cashewnut'))\n",
    "\n",
    "data['Crop']=data['Crop'].apply(lambda x:x\n",
    "                                      .replace('black gram','gram')\n",
    "                                     .replace('Moth','gram')\n",
    "                                     .replace('Blackgram','gram'))\n",
    "\n",
    "data['Crop']=data['Crop'].apply(lambda x:x\n",
    "                                      .replace('Oilseeds total' ,'oilseeds')\n",
    "                                      .replace('Niger seed' ,'oilseeds')\n",
    "                                     .replace('other oilseeds','oilseeds'))\n",
    "\n",
    "data['Crop']=data['Crop'].apply(lambda x:x\n",
    "                                      .replace('Other Cereals & Millets' ,'Bajra')\n",
    "                                      .replace('Samai' ,'Bajra')\n",
    "                                      .replace('Small millets' ,'Bajra')\n",
    "                                      .replace('Ragi','Bajra')\n",
    "                                      .replace('Varagu','Bajra')\n",
    "                                      .replace('Jobster','Bajra'))\n",
    "\n",
    "data['Crop']=data['Crop'].apply(lambda x:x\n",
    "                                     .replace('Coriander' ,'Vegetables')\n",
    "                                     .replace('pulsess & Mutter(Vegetable)' ,'Vegetables')\n",
    "                                     .replace('Bhindi' ,'Vegetables')\n",
    "                                     .replace('Tomato','Vegetables')\n",
    "                                     .replace('Cowpea(Lobia)','Vegetables')\n",
    "                                     .replace('Cabbage','Vegetables')\n",
    "                                     .replace('Carrot','Vegetables')\n",
    "                                     .replace('Drum Stick','Vegetables')\n",
    "                                     .replace('Redish','Vegetables')\n",
    "                                     .replace('Cauliflower','Vegetables')\n",
    "                                     .replace('Colocosia','Vegetables')\n",
    "                                     .replace('Brinjal','Vegetables')\n",
    "                                     .replace('Bottle Gourd','Vegetables')\n",
    "                                     .replace('Bitter Gourd','Vegetables')\n",
    "                                     .replace('Other Vegetables','Vegetables')\n",
    "                                     .replace('Potato','Vegetables'))\n",
    "\n",
    "data['Crop']=data['Crop'].apply(lambda x:x.replace('Niger seed','Sesamum'))\n",
    "data['Crop']=data['Crop'].apply(lambda x:x.replace('Korra','Total foodgrain'))\n",
    "data['Crop']=data['Crop'].apply(lambda x:x.replace('Paddy','Rice'))"
   ]
  },
  {
   "cell_type": "code",
   "execution_count": 20,
   "id": "f0a042c2",
   "metadata": {},
   "outputs": [
    {
     "data": {
      "text/plain": [
       "array(['Arecanut', 'pulses', 'Rice', 'Fruits', 'Cashewnut', 'Coconut',\n",
       "       'Dry ginger', 'Sugarcane', 'Sweet potato', 'Tapioca',\n",
       "       'Other Spices', 'Dry chillies', 'oilseeds', 'Turmeric', 'Maize',\n",
       "       'Groundnut', 'Sunflower', 'Bajra', 'Castor seed', 'Cotton',\n",
       "       'Jowar', 'Total foodgrain', 'Tobacco', 'Gram', 'Wheat', 'Masoor',\n",
       "       'Sesamum', 'Linseed', 'Safflower', 'Onion', 'Vegetables',\n",
       "       'Soyabean', 'Jute', 'Rapeseed &Mustard', 'Garlic', 'gram',\n",
       "       'Pineapple', 'Barley', 'Sannhamp', 'Guar seed', 'Cond-spcs other',\n",
       "       'Cardamom', 'Rubber', 'Tea', 'Coffee'], dtype=object)"
      ]
     },
     "execution_count": 20,
     "metadata": {},
     "output_type": "execute_result"
    }
   ],
   "source": [
    "data.Crop.unique()"
   ]
  },
  {
   "cell_type": "code",
   "execution_count": 21,
   "id": "c9e332c9",
   "metadata": {},
   "outputs": [],
   "source": [
    "data.to_csv('Crop_clean.csv')"
   ]
  },
  {
   "cell_type": "code",
   "execution_count": 22,
   "id": "95aad99d",
   "metadata": {},
   "outputs": [
    {
     "data": {
      "text/html": [
       "<div>\n",
       "<style scoped>\n",
       "    .dataframe tbody tr th:only-of-type {\n",
       "        vertical-align: middle;\n",
       "    }\n",
       "\n",
       "    .dataframe tbody tr th {\n",
       "        vertical-align: top;\n",
       "    }\n",
       "\n",
       "    .dataframe thead th {\n",
       "        text-align: right;\n",
       "    }\n",
       "</style>\n",
       "<table border=\"1\" class=\"dataframe\">\n",
       "  <thead>\n",
       "    <tr style=\"text-align: right;\">\n",
       "      <th></th>\n",
       "      <th>State_Name</th>\n",
       "      <th>District_Name</th>\n",
       "      <th>Crop_Year</th>\n",
       "      <th>Season</th>\n",
       "      <th>Crop</th>\n",
       "      <th>Area</th>\n",
       "      <th>Production</th>\n",
       "    </tr>\n",
       "  </thead>\n",
       "  <tbody>\n",
       "    <tr>\n",
       "      <th>0</th>\n",
       "      <td>Andaman and Nicobar Islands</td>\n",
       "      <td>NICOBARS</td>\n",
       "      <td>2000</td>\n",
       "      <td>Kharif</td>\n",
       "      <td>Arecanut</td>\n",
       "      <td>1254.0</td>\n",
       "      <td>2000.0</td>\n",
       "    </tr>\n",
       "    <tr>\n",
       "      <th>1</th>\n",
       "      <td>Andaman and Nicobar Islands</td>\n",
       "      <td>NICOBARS</td>\n",
       "      <td>2000</td>\n",
       "      <td>Kharif</td>\n",
       "      <td>pulses</td>\n",
       "      <td>2.0</td>\n",
       "      <td>1.0</td>\n",
       "    </tr>\n",
       "    <tr>\n",
       "      <th>2</th>\n",
       "      <td>Andaman and Nicobar Islands</td>\n",
       "      <td>NICOBARS</td>\n",
       "      <td>2000</td>\n",
       "      <td>Kharif</td>\n",
       "      <td>Rice</td>\n",
       "      <td>102.0</td>\n",
       "      <td>321.0</td>\n",
       "    </tr>\n",
       "    <tr>\n",
       "      <th>3</th>\n",
       "      <td>Andaman and Nicobar Islands</td>\n",
       "      <td>NICOBARS</td>\n",
       "      <td>2000</td>\n",
       "      <td>Whole Year</td>\n",
       "      <td>Fruits</td>\n",
       "      <td>176.0</td>\n",
       "      <td>641.0</td>\n",
       "    </tr>\n",
       "    <tr>\n",
       "      <th>4</th>\n",
       "      <td>Andaman and Nicobar Islands</td>\n",
       "      <td>NICOBARS</td>\n",
       "      <td>2000</td>\n",
       "      <td>Whole Year</td>\n",
       "      <td>Cashewnut</td>\n",
       "      <td>720.0</td>\n",
       "      <td>165.0</td>\n",
       "    </tr>\n",
       "  </tbody>\n",
       "</table>\n",
       "</div>"
      ],
      "text/plain": [
       "                    State_Name District_Name  Crop_Year      Season  \\\n",
       "0  Andaman and Nicobar Islands      NICOBARS       2000      Kharif   \n",
       "1  Andaman and Nicobar Islands      NICOBARS       2000      Kharif   \n",
       "2  Andaman and Nicobar Islands      NICOBARS       2000      Kharif   \n",
       "3  Andaman and Nicobar Islands      NICOBARS       2000  Whole Year   \n",
       "4  Andaman and Nicobar Islands      NICOBARS       2000  Whole Year   \n",
       "\n",
       "        Crop    Area  Production  \n",
       "0   Arecanut  1254.0      2000.0  \n",
       "1     pulses     2.0         1.0  \n",
       "2       Rice   102.0       321.0  \n",
       "3     Fruits   176.0       641.0  \n",
       "4  Cashewnut   720.0       165.0  "
      ]
     },
     "execution_count": 22,
     "metadata": {},
     "output_type": "execute_result"
    }
   ],
   "source": [
    "data.head()"
   ]
  },
  {
   "cell_type": "code",
   "execution_count": 23,
   "id": "2d41820e",
   "metadata": {},
   "outputs": [],
   "source": [
    "data1 = data.drop([\"District_Name\",\"Crop_Year\"],axis=1)"
   ]
  },
  {
   "cell_type": "code",
   "execution_count": 24,
   "id": "5061a12c",
   "metadata": {},
   "outputs": [],
   "source": [
    "#from sklearn.preprocessing import LabelEncoder\n",
    "#encoding_cols = ['State_Name','Season','Crop']\n",
    "#label_encoders = {}\n",
    "#for col in encoding_cols:\n",
    " #   label_encoders[col] = LabelEncoder()\n",
    "  #  data1[col] = label_encoders[col].fit_transform(data1[col])\n",
    "data1 = pd.get_dummies(data1)"
   ]
  },
  {
   "cell_type": "code",
   "execution_count": 25,
   "id": "a9e9d9f1",
   "metadata": {},
   "outputs": [
    {
     "data": {
      "text/html": [
       "<div>\n",
       "<style scoped>\n",
       "    .dataframe tbody tr th:only-of-type {\n",
       "        vertical-align: middle;\n",
       "    }\n",
       "\n",
       "    .dataframe tbody tr th {\n",
       "        vertical-align: top;\n",
       "    }\n",
       "\n",
       "    .dataframe thead th {\n",
       "        text-align: right;\n",
       "    }\n",
       "</style>\n",
       "<table border=\"1\" class=\"dataframe\">\n",
       "  <thead>\n",
       "    <tr style=\"text-align: right;\">\n",
       "      <th></th>\n",
       "      <th>Area</th>\n",
       "      <th>Production</th>\n",
       "      <th>State_Name_Andaman and Nicobar Islands</th>\n",
       "      <th>State_Name_Andhra Pradesh</th>\n",
       "      <th>State_Name_Arunachal Pradesh</th>\n",
       "      <th>State_Name_Assam</th>\n",
       "      <th>State_Name_Bihar</th>\n",
       "      <th>State_Name_Chandigarh</th>\n",
       "      <th>State_Name_Chhattisgarh</th>\n",
       "      <th>State_Name_Dadra and Nagar Haveli</th>\n",
       "      <th>...</th>\n",
       "      <th>Crop_Tapioca</th>\n",
       "      <th>Crop_Tea</th>\n",
       "      <th>Crop_Tobacco</th>\n",
       "      <th>Crop_Total foodgrain</th>\n",
       "      <th>Crop_Turmeric</th>\n",
       "      <th>Crop_Vegetables</th>\n",
       "      <th>Crop_Wheat</th>\n",
       "      <th>Crop_gram</th>\n",
       "      <th>Crop_oilseeds</th>\n",
       "      <th>Crop_pulses</th>\n",
       "    </tr>\n",
       "  </thead>\n",
       "  <tbody>\n",
       "    <tr>\n",
       "      <th>0</th>\n",
       "      <td>1254.0</td>\n",
       "      <td>2000.0</td>\n",
       "      <td>1</td>\n",
       "      <td>0</td>\n",
       "      <td>0</td>\n",
       "      <td>0</td>\n",
       "      <td>0</td>\n",
       "      <td>0</td>\n",
       "      <td>0</td>\n",
       "      <td>0</td>\n",
       "      <td>...</td>\n",
       "      <td>0</td>\n",
       "      <td>0</td>\n",
       "      <td>0</td>\n",
       "      <td>0</td>\n",
       "      <td>0</td>\n",
       "      <td>0</td>\n",
       "      <td>0</td>\n",
       "      <td>0</td>\n",
       "      <td>0</td>\n",
       "      <td>0</td>\n",
       "    </tr>\n",
       "    <tr>\n",
       "      <th>1</th>\n",
       "      <td>2.0</td>\n",
       "      <td>1.0</td>\n",
       "      <td>1</td>\n",
       "      <td>0</td>\n",
       "      <td>0</td>\n",
       "      <td>0</td>\n",
       "      <td>0</td>\n",
       "      <td>0</td>\n",
       "      <td>0</td>\n",
       "      <td>0</td>\n",
       "      <td>...</td>\n",
       "      <td>0</td>\n",
       "      <td>0</td>\n",
       "      <td>0</td>\n",
       "      <td>0</td>\n",
       "      <td>0</td>\n",
       "      <td>0</td>\n",
       "      <td>0</td>\n",
       "      <td>0</td>\n",
       "      <td>0</td>\n",
       "      <td>1</td>\n",
       "    </tr>\n",
       "    <tr>\n",
       "      <th>2</th>\n",
       "      <td>102.0</td>\n",
       "      <td>321.0</td>\n",
       "      <td>1</td>\n",
       "      <td>0</td>\n",
       "      <td>0</td>\n",
       "      <td>0</td>\n",
       "      <td>0</td>\n",
       "      <td>0</td>\n",
       "      <td>0</td>\n",
       "      <td>0</td>\n",
       "      <td>...</td>\n",
       "      <td>0</td>\n",
       "      <td>0</td>\n",
       "      <td>0</td>\n",
       "      <td>0</td>\n",
       "      <td>0</td>\n",
       "      <td>0</td>\n",
       "      <td>0</td>\n",
       "      <td>0</td>\n",
       "      <td>0</td>\n",
       "      <td>0</td>\n",
       "    </tr>\n",
       "    <tr>\n",
       "      <th>3</th>\n",
       "      <td>176.0</td>\n",
       "      <td>641.0</td>\n",
       "      <td>1</td>\n",
       "      <td>0</td>\n",
       "      <td>0</td>\n",
       "      <td>0</td>\n",
       "      <td>0</td>\n",
       "      <td>0</td>\n",
       "      <td>0</td>\n",
       "      <td>0</td>\n",
       "      <td>...</td>\n",
       "      <td>0</td>\n",
       "      <td>0</td>\n",
       "      <td>0</td>\n",
       "      <td>0</td>\n",
       "      <td>0</td>\n",
       "      <td>0</td>\n",
       "      <td>0</td>\n",
       "      <td>0</td>\n",
       "      <td>0</td>\n",
       "      <td>0</td>\n",
       "    </tr>\n",
       "    <tr>\n",
       "      <th>4</th>\n",
       "      <td>720.0</td>\n",
       "      <td>165.0</td>\n",
       "      <td>1</td>\n",
       "      <td>0</td>\n",
       "      <td>0</td>\n",
       "      <td>0</td>\n",
       "      <td>0</td>\n",
       "      <td>0</td>\n",
       "      <td>0</td>\n",
       "      <td>0</td>\n",
       "      <td>...</td>\n",
       "      <td>0</td>\n",
       "      <td>0</td>\n",
       "      <td>0</td>\n",
       "      <td>0</td>\n",
       "      <td>0</td>\n",
       "      <td>0</td>\n",
       "      <td>0</td>\n",
       "      <td>0</td>\n",
       "      <td>0</td>\n",
       "      <td>0</td>\n",
       "    </tr>\n",
       "    <tr>\n",
       "      <th>...</th>\n",
       "      <td>...</td>\n",
       "      <td>...</td>\n",
       "      <td>...</td>\n",
       "      <td>...</td>\n",
       "      <td>...</td>\n",
       "      <td>...</td>\n",
       "      <td>...</td>\n",
       "      <td>...</td>\n",
       "      <td>...</td>\n",
       "      <td>...</td>\n",
       "      <td>...</td>\n",
       "      <td>...</td>\n",
       "      <td>...</td>\n",
       "      <td>...</td>\n",
       "      <td>...</td>\n",
       "      <td>...</td>\n",
       "      <td>...</td>\n",
       "      <td>...</td>\n",
       "      <td>...</td>\n",
       "      <td>...</td>\n",
       "      <td>...</td>\n",
       "    </tr>\n",
       "    <tr>\n",
       "      <th>246086</th>\n",
       "      <td>306.0</td>\n",
       "      <td>801.0</td>\n",
       "      <td>0</td>\n",
       "      <td>0</td>\n",
       "      <td>0</td>\n",
       "      <td>0</td>\n",
       "      <td>0</td>\n",
       "      <td>0</td>\n",
       "      <td>0</td>\n",
       "      <td>0</td>\n",
       "      <td>...</td>\n",
       "      <td>0</td>\n",
       "      <td>0</td>\n",
       "      <td>0</td>\n",
       "      <td>0</td>\n",
       "      <td>0</td>\n",
       "      <td>0</td>\n",
       "      <td>0</td>\n",
       "      <td>0</td>\n",
       "      <td>0</td>\n",
       "      <td>0</td>\n",
       "    </tr>\n",
       "    <tr>\n",
       "      <th>246087</th>\n",
       "      <td>627.0</td>\n",
       "      <td>463.0</td>\n",
       "      <td>0</td>\n",
       "      <td>0</td>\n",
       "      <td>0</td>\n",
       "      <td>0</td>\n",
       "      <td>0</td>\n",
       "      <td>0</td>\n",
       "      <td>0</td>\n",
       "      <td>0</td>\n",
       "      <td>...</td>\n",
       "      <td>0</td>\n",
       "      <td>0</td>\n",
       "      <td>0</td>\n",
       "      <td>0</td>\n",
       "      <td>0</td>\n",
       "      <td>0</td>\n",
       "      <td>0</td>\n",
       "      <td>0</td>\n",
       "      <td>0</td>\n",
       "      <td>0</td>\n",
       "    </tr>\n",
       "    <tr>\n",
       "      <th>246088</th>\n",
       "      <td>324.0</td>\n",
       "      <td>16250.0</td>\n",
       "      <td>0</td>\n",
       "      <td>0</td>\n",
       "      <td>0</td>\n",
       "      <td>0</td>\n",
       "      <td>0</td>\n",
       "      <td>0</td>\n",
       "      <td>0</td>\n",
       "      <td>0</td>\n",
       "      <td>...</td>\n",
       "      <td>0</td>\n",
       "      <td>0</td>\n",
       "      <td>0</td>\n",
       "      <td>0</td>\n",
       "      <td>0</td>\n",
       "      <td>0</td>\n",
       "      <td>0</td>\n",
       "      <td>0</td>\n",
       "      <td>0</td>\n",
       "      <td>0</td>\n",
       "    </tr>\n",
       "    <tr>\n",
       "      <th>246089</th>\n",
       "      <td>279151.0</td>\n",
       "      <td>597899.0</td>\n",
       "      <td>0</td>\n",
       "      <td>0</td>\n",
       "      <td>0</td>\n",
       "      <td>0</td>\n",
       "      <td>0</td>\n",
       "      <td>0</td>\n",
       "      <td>0</td>\n",
       "      <td>0</td>\n",
       "      <td>...</td>\n",
       "      <td>0</td>\n",
       "      <td>0</td>\n",
       "      <td>0</td>\n",
       "      <td>0</td>\n",
       "      <td>0</td>\n",
       "      <td>0</td>\n",
       "      <td>0</td>\n",
       "      <td>0</td>\n",
       "      <td>0</td>\n",
       "      <td>0</td>\n",
       "    </tr>\n",
       "    <tr>\n",
       "      <th>246090</th>\n",
       "      <td>175.0</td>\n",
       "      <td>88.0</td>\n",
       "      <td>0</td>\n",
       "      <td>0</td>\n",
       "      <td>0</td>\n",
       "      <td>0</td>\n",
       "      <td>0</td>\n",
       "      <td>0</td>\n",
       "      <td>0</td>\n",
       "      <td>0</td>\n",
       "      <td>...</td>\n",
       "      <td>0</td>\n",
       "      <td>0</td>\n",
       "      <td>0</td>\n",
       "      <td>0</td>\n",
       "      <td>0</td>\n",
       "      <td>0</td>\n",
       "      <td>0</td>\n",
       "      <td>0</td>\n",
       "      <td>0</td>\n",
       "      <td>0</td>\n",
       "    </tr>\n",
       "  </tbody>\n",
       "</table>\n",
       "<p>238838 rows × 83 columns</p>\n",
       "</div>"
      ],
      "text/plain": [
       "            Area  Production  State_Name_Andaman and Nicobar Islands  \\\n",
       "0         1254.0      2000.0                                       1   \n",
       "1            2.0         1.0                                       1   \n",
       "2          102.0       321.0                                       1   \n",
       "3          176.0       641.0                                       1   \n",
       "4          720.0       165.0                                       1   \n",
       "...          ...         ...                                     ...   \n",
       "246086     306.0       801.0                                       0   \n",
       "246087     627.0       463.0                                       0   \n",
       "246088     324.0     16250.0                                       0   \n",
       "246089  279151.0    597899.0                                       0   \n",
       "246090     175.0        88.0                                       0   \n",
       "\n",
       "        State_Name_Andhra Pradesh  State_Name_Arunachal Pradesh  \\\n",
       "0                               0                             0   \n",
       "1                               0                             0   \n",
       "2                               0                             0   \n",
       "3                               0                             0   \n",
       "4                               0                             0   \n",
       "...                           ...                           ...   \n",
       "246086                          0                             0   \n",
       "246087                          0                             0   \n",
       "246088                          0                             0   \n",
       "246089                          0                             0   \n",
       "246090                          0                             0   \n",
       "\n",
       "        State_Name_Assam  State_Name_Bihar  State_Name_Chandigarh  \\\n",
       "0                      0                 0                      0   \n",
       "1                      0                 0                      0   \n",
       "2                      0                 0                      0   \n",
       "3                      0                 0                      0   \n",
       "4                      0                 0                      0   \n",
       "...                  ...               ...                    ...   \n",
       "246086                 0                 0                      0   \n",
       "246087                 0                 0                      0   \n",
       "246088                 0                 0                      0   \n",
       "246089                 0                 0                      0   \n",
       "246090                 0                 0                      0   \n",
       "\n",
       "        State_Name_Chhattisgarh  State_Name_Dadra and Nagar Haveli  ...  \\\n",
       "0                             0                                  0  ...   \n",
       "1                             0                                  0  ...   \n",
       "2                             0                                  0  ...   \n",
       "3                             0                                  0  ...   \n",
       "4                             0                                  0  ...   \n",
       "...                         ...                                ...  ...   \n",
       "246086                        0                                  0  ...   \n",
       "246087                        0                                  0  ...   \n",
       "246088                        0                                  0  ...   \n",
       "246089                        0                                  0  ...   \n",
       "246090                        0                                  0  ...   \n",
       "\n",
       "        Crop_Tapioca  Crop_Tea  Crop_Tobacco  Crop_Total foodgrain  \\\n",
       "0                  0         0             0                     0   \n",
       "1                  0         0             0                     0   \n",
       "2                  0         0             0                     0   \n",
       "3                  0         0             0                     0   \n",
       "4                  0         0             0                     0   \n",
       "...              ...       ...           ...                   ...   \n",
       "246086             0         0             0                     0   \n",
       "246087             0         0             0                     0   \n",
       "246088             0         0             0                     0   \n",
       "246089             0         0             0                     0   \n",
       "246090             0         0             0                     0   \n",
       "\n",
       "        Crop_Turmeric  Crop_Vegetables  Crop_Wheat  Crop_gram  Crop_oilseeds  \\\n",
       "0                   0                0           0          0              0   \n",
       "1                   0                0           0          0              0   \n",
       "2                   0                0           0          0              0   \n",
       "3                   0                0           0          0              0   \n",
       "4                   0                0           0          0              0   \n",
       "...               ...              ...         ...        ...            ...   \n",
       "246086              0                0           0          0              0   \n",
       "246087              0                0           0          0              0   \n",
       "246088              0                0           0          0              0   \n",
       "246089              0                0           0          0              0   \n",
       "246090              0                0           0          0              0   \n",
       "\n",
       "        Crop_pulses  \n",
       "0                 0  \n",
       "1                 1  \n",
       "2                 0  \n",
       "3                 0  \n",
       "4                 0  \n",
       "...             ...  \n",
       "246086            0  \n",
       "246087            0  \n",
       "246088            0  \n",
       "246089            0  \n",
       "246090            0  \n",
       "\n",
       "[238838 rows x 83 columns]"
      ]
     },
     "execution_count": 25,
     "metadata": {},
     "output_type": "execute_result"
    }
   ],
   "source": [
    "data1"
   ]
  },
  {
   "cell_type": "code",
   "execution_count": 26,
   "id": "81d93c41",
   "metadata": {},
   "outputs": [
    {
     "name": "stdout",
     "output_type": "stream",
     "text": [
      "x_train : (191070, 82)\n",
      "x_test : (47768, 82)\n",
      "y_train : (191070, 1)\n",
      "y_test : (47768, 1)\n"
     ]
    }
   ],
   "source": [
    "x = data1.drop(\"Production\",axis=1)\n",
    "y = data1[[\"Production\"]]\n",
    "from sklearn.model_selection import train_test_split\n",
    "x_train,x_test,y_train,y_test = train_test_split(x,y,test_size=0.2, random_state=42)\n",
    "print(\"x_train :\",x_train.shape)\n",
    "print(\"x_test :\",x_test.shape)\n",
    "print(\"y_train :\",y_train.shape)\n",
    "print(\"y_test :\",y_test.shape)"
   ]
  },
  {
   "cell_type": "code",
   "execution_count": 27,
   "id": "fce6bb4b",
   "metadata": {},
   "outputs": [],
   "source": [
    "from sklearn.preprocessing import StandardScaler\n",
    "\n",
    "scaler = StandardScaler()\n",
    "x_train = scaler.fit_transform(x_train)\n",
    "x_test = scaler.transform(x_test)"
   ]
  },
  {
   "cell_type": "code",
   "execution_count": 28,
   "id": "7de6ae25",
   "metadata": {},
   "outputs": [
    {
     "data": {
      "text/plain": [
       "array([[-2.23154772e-01, -2.85853432e-02, -2.04210375e-01,\n",
       "        -1.03574972e-01, -2.56269174e-01, -2.92353919e-01,\n",
       "        -1.90067002e-02, -2.13611014e-01, -3.34068675e-02,\n",
       "        -2.93990516e-02, -1.90453462e-01, -1.28463259e-01,\n",
       "        -1.01568971e-01, -8.18324993e-02, -7.23882891e-02,\n",
       "        -3.12125439e-01, -1.27300684e-01,  3.18604156e+00,\n",
       "        -2.34210199e-01, -7.31876271e-02, -1.10890730e-01,\n",
       "        -6.29430846e-02, -1.29072309e-01, -2.44645340e-01,\n",
       "        -6.10287014e-02, -1.15955937e-01, -2.26180847e-01,\n",
       "        -5.45557612e-02, -2.33575462e-01, -1.53135198e-01,\n",
       "        -7.70626690e-02, -4.01367982e-01, -1.43819267e-01,\n",
       "        -2.04182562e-01,  1.05248784e+00, -6.58351243e-01,\n",
       "        -5.36011337e-01, -8.16378274e-02, -2.57184074e-01,\n",
       "        -1.32262655e-01, -3.78264472e-02, -6.82155688e-02,\n",
       "        -1.17063499e-01, -9.11677846e-02, -3.23534813e-03,\n",
       "        -9.70645082e-03, -1.37551615e-01, -1.65434380e-01,\n",
       "        -1.16649330e-01, -1.45422312e-01, -1.16233764e-01,\n",
       "        -1.77154167e-01,  5.14397484e+00, -7.27890322e-02,\n",
       "        -1.73154655e-01, -1.17017549e-01, -1.35843185e-01,\n",
       "        -2.47253914e-01, -1.33079645e-01, -1.73314915e-01,\n",
       "        -6.30268394e-02, -3.20445848e-02, -1.80751931e-01,\n",
       "        -2.64315646e-01, -1.07309975e-02, -7.39785109e-02,\n",
       "        -9.46914921e-02, -1.94416692e-01, -1.17040526e-01,\n",
       "        -1.83832294e-01, -1.53027768e-01, -1.31337887e-01,\n",
       "        -8.20590483e-02, -1.53483309e-02, -1.05239830e-01,\n",
       "        -3.66281399e-02, -1.32773823e-01, -2.29067955e-01,\n",
       "        -1.84758281e-01, -6.00709203e-02, -1.12952196e-01,\n",
       "        -4.71835676e-01],\n",
       "       [-2.23284015e-01, -2.85853432e-02, -2.04210375e-01,\n",
       "        -1.03574972e-01, -2.56269174e-01, -2.92353919e-01,\n",
       "        -1.90067002e-02, -2.13611014e-01, -3.34068675e-02,\n",
       "        -2.93990516e-02, -1.90453462e-01, -1.28463259e-01,\n",
       "        -1.01568971e-01, -8.18324993e-02, -7.23882891e-02,\n",
       "        -3.12125439e-01, -1.27300684e-01, -3.13869101e-01,\n",
       "         4.26966889e+00, -7.31876271e-02, -1.10890730e-01,\n",
       "        -6.29430846e-02, -1.29072309e-01, -2.44645340e-01,\n",
       "        -6.10287014e-02, -1.15955937e-01, -2.26180847e-01,\n",
       "        -5.45557612e-02, -2.33575462e-01, -1.53135198e-01,\n",
       "        -7.70626690e-02, -4.01367982e-01, -1.43819267e-01,\n",
       "        -2.04182562e-01,  1.05248784e+00, -6.58351243e-01,\n",
       "        -5.36011337e-01, -8.16378274e-02, -2.57184074e-01,\n",
       "        -1.32262655e-01, -3.78264472e-02, -6.82155688e-02,\n",
       "        -1.17063499e-01, -9.11677846e-02, -3.23534813e-03,\n",
       "        -9.70645082e-03, -1.37551615e-01, -1.65434380e-01,\n",
       "        -1.16649330e-01, -1.45422312e-01, -1.16233764e-01,\n",
       "        -1.77154167e-01,  5.14397484e+00, -7.27890322e-02,\n",
       "        -1.73154655e-01, -1.17017549e-01, -1.35843185e-01,\n",
       "        -2.47253914e-01, -1.33079645e-01, -1.73314915e-01,\n",
       "        -6.30268394e-02, -3.20445848e-02, -1.80751931e-01,\n",
       "        -2.64315646e-01, -1.07309975e-02, -7.39785109e-02,\n",
       "        -9.46914921e-02, -1.94416692e-01, -1.17040526e-01,\n",
       "        -1.83832294e-01, -1.53027768e-01, -1.31337887e-01,\n",
       "        -8.20590483e-02, -1.53483309e-02, -1.05239830e-01,\n",
       "        -3.66281399e-02, -1.32773823e-01, -2.29067955e-01,\n",
       "        -1.84758281e-01, -6.00709203e-02, -1.12952196e-01,\n",
       "        -4.71835676e-01],\n",
       "       [ 2.19337612e+00, -2.85853432e-02, -2.04210375e-01,\n",
       "        -1.03574972e-01, -2.56269174e-01, -2.92353919e-01,\n",
       "        -1.90067002e-02, -2.13611014e-01, -3.34068675e-02,\n",
       "        -2.93990516e-02, -1.90453462e-01, -1.28463259e-01,\n",
       "        -1.01568971e-01, -8.18324993e-02, -7.23882891e-02,\n",
       "        -3.12125439e-01, -1.27300684e-01,  3.18604156e+00,\n",
       "        -2.34210199e-01, -7.31876271e-02, -1.10890730e-01,\n",
       "        -6.29430846e-02, -1.29072309e-01, -2.44645340e-01,\n",
       "        -6.10287014e-02, -1.15955937e-01, -2.26180847e-01,\n",
       "        -5.45557612e-02, -2.33575462e-01, -1.53135198e-01,\n",
       "        -7.70626690e-02, -4.01367982e-01, -1.43819267e-01,\n",
       "        -2.04182562e-01, -9.50129738e-01, -6.58351243e-01,\n",
       "         1.86563218e+00, -8.16378274e-02, -2.57184074e-01,\n",
       "        -1.32262655e-01, -3.78264472e-02, -6.82155688e-02,\n",
       "        -1.17063499e-01, -9.11677846e-02, -3.23534813e-03,\n",
       "        -9.70645082e-03, -1.37551615e-01, -1.65434380e-01,\n",
       "        -1.16649330e-01, -1.45422312e-01, -1.16233764e-01,\n",
       "        -1.77154167e-01, -1.94402195e-01, -7.27890322e-02,\n",
       "        -1.73154655e-01, -1.17017549e-01, -1.35843185e-01,\n",
       "        -2.47253914e-01, -1.33079645e-01, -1.73314915e-01,\n",
       "        -6.30268394e-02, -3.20445848e-02, -1.80751931e-01,\n",
       "        -2.64315646e-01, -1.07309975e-02, -7.39785109e-02,\n",
       "        -9.46914921e-02, -1.94416692e-01, -1.17040526e-01,\n",
       "        -1.83832294e-01, -1.53027768e-01, -1.31337887e-01,\n",
       "        -8.20590483e-02, -1.53483309e-02, -1.05239830e-01,\n",
       "        -3.66281399e-02, -1.32773823e-01, -2.29067955e-01,\n",
       "         5.41247729e+00, -6.00709203e-02, -1.12952196e-01,\n",
       "        -4.71835676e-01],\n",
       "       [-2.23856377e-01, -2.85853432e-02, -2.04210375e-01,\n",
       "        -1.03574972e-01, -2.56269174e-01, -2.92353919e-01,\n",
       "        -1.90067002e-02, -2.13611014e-01, -3.34068675e-02,\n",
       "        -2.93990516e-02, -1.90453462e-01, -1.28463259e-01,\n",
       "         9.84552653e+00, -8.18324993e-02, -7.23882891e-02,\n",
       "        -3.12125439e-01, -1.27300684e-01, -3.13869101e-01,\n",
       "        -2.34210199e-01, -7.31876271e-02, -1.10890730e-01,\n",
       "        -6.29430846e-02, -1.29072309e-01, -2.44645340e-01,\n",
       "        -6.10287014e-02, -1.15955937e-01, -2.26180847e-01,\n",
       "        -5.45557612e-02, -2.33575462e-01, -1.53135198e-01,\n",
       "        -7.70626690e-02, -4.01367982e-01, -1.43819267e-01,\n",
       "        -2.04182562e-01, -9.50129738e-01,  1.51894602e+00,\n",
       "        -5.36011337e-01, -8.16378274e-02, -2.57184074e-01,\n",
       "        -1.32262655e-01, -3.78264472e-02, -6.82155688e-02,\n",
       "        -1.17063499e-01, -9.11677846e-02, -3.23534813e-03,\n",
       "        -9.70645082e-03, -1.37551615e-01, -1.65434380e-01,\n",
       "        -1.16649330e-01, -1.45422312e-01, -1.16233764e-01,\n",
       "        -1.77154167e-01, -1.94402195e-01, -7.27890322e-02,\n",
       "        -1.73154655e-01, -1.17017549e-01, -1.35843185e-01,\n",
       "        -2.47253914e-01, -1.33079645e-01, -1.73314915e-01,\n",
       "        -6.30268394e-02, -3.20445848e-02,  5.53244435e+00,\n",
       "        -2.64315646e-01, -1.07309975e-02, -7.39785109e-02,\n",
       "        -9.46914921e-02, -1.94416692e-01, -1.17040526e-01,\n",
       "        -1.83832294e-01, -1.53027768e-01, -1.31337887e-01,\n",
       "        -8.20590483e-02, -1.53483309e-02, -1.05239830e-01,\n",
       "        -3.66281399e-02, -1.32773823e-01, -2.29067955e-01,\n",
       "        -1.84758281e-01, -6.00709203e-02, -1.12952196e-01,\n",
       "        -4.71835676e-01],\n",
       "       [-2.29746167e-01, -2.85853432e-02, -2.04210375e-01,\n",
       "        -1.03574972e-01, -2.56269174e-01, -2.92353919e-01,\n",
       "        -1.90067002e-02, -2.13611014e-01, -3.34068675e-02,\n",
       "        -2.93990516e-02, -1.90453462e-01, -1.28463259e-01,\n",
       "        -1.01568971e-01, -8.18324993e-02, -7.23882891e-02,\n",
       "        -3.12125439e-01, -1.27300684e-01, -3.13869101e-01,\n",
       "        -2.34210199e-01, -7.31876271e-02, -1.10890730e-01,\n",
       "        -6.29430846e-02, -1.29072309e-01, -2.44645340e-01,\n",
       "        -6.10287014e-02, -1.15955937e-01, -2.26180847e-01,\n",
       "        -5.45557612e-02, -2.33575462e-01, -1.53135198e-01,\n",
       "        -7.70626690e-02,  2.49147926e+00, -1.43819267e-01,\n",
       "        -2.04182562e-01, -9.50129738e-01,  1.51894602e+00,\n",
       "        -5.36011337e-01, -8.16378274e-02, -2.57184074e-01,\n",
       "        -1.32262655e-01, -3.78264472e-02, -6.82155688e-02,\n",
       "        -1.17063499e-01, -9.11677846e-02, -3.23534813e-03,\n",
       "        -9.70645082e-03, -1.37551615e-01, -1.65434380e-01,\n",
       "        -1.16649330e-01, -1.45422312e-01, -1.16233764e-01,\n",
       "        -1.77154167e-01, -1.94402195e-01, -7.27890322e-02,\n",
       "        -1.73154655e-01, -1.17017549e-01, -1.35843185e-01,\n",
       "        -2.47253914e-01,  7.51429715e+00, -1.73314915e-01,\n",
       "        -6.30268394e-02, -3.20445848e-02, -1.80751931e-01,\n",
       "        -2.64315646e-01, -1.07309975e-02, -7.39785109e-02,\n",
       "        -9.46914921e-02, -1.94416692e-01, -1.17040526e-01,\n",
       "        -1.83832294e-01, -1.53027768e-01, -1.31337887e-01,\n",
       "        -8.20590483e-02, -1.53483309e-02, -1.05239830e-01,\n",
       "        -3.66281399e-02, -1.32773823e-01, -2.29067955e-01,\n",
       "        -1.84758281e-01, -6.00709203e-02, -1.12952196e-01,\n",
       "        -4.71835676e-01]])"
      ]
     },
     "execution_count": 28,
     "metadata": {},
     "output_type": "execute_result"
    }
   ],
   "source": [
    "x_train[:5]"
   ]
  },
  {
   "cell_type": "code",
   "execution_count": 29,
   "id": "dbe8f448",
   "metadata": {
    "scrolled": true
   },
   "outputs": [
    {
     "data": {
      "text/html": [
       "<div>\n",
       "<style scoped>\n",
       "    .dataframe tbody tr th:only-of-type {\n",
       "        vertical-align: middle;\n",
       "    }\n",
       "\n",
       "    .dataframe tbody tr th {\n",
       "        vertical-align: top;\n",
       "    }\n",
       "\n",
       "    .dataframe thead th {\n",
       "        text-align: right;\n",
       "    }\n",
       "</style>\n",
       "<table border=\"1\" class=\"dataframe\">\n",
       "  <thead>\n",
       "    <tr style=\"text-align: right;\">\n",
       "      <th></th>\n",
       "      <th>Production</th>\n",
       "    </tr>\n",
       "  </thead>\n",
       "  <tbody>\n",
       "    <tr>\n",
       "      <th>117915</th>\n",
       "      <td>264.0</td>\n",
       "    </tr>\n",
       "    <tr>\n",
       "      <th>137182</th>\n",
       "      <td>200.0</td>\n",
       "    </tr>\n",
       "    <tr>\n",
       "      <th>110496</th>\n",
       "      <td>406978.0</td>\n",
       "    </tr>\n",
       "    <tr>\n",
       "      <th>72925</th>\n",
       "      <td>86.0</td>\n",
       "    </tr>\n",
       "    <tr>\n",
       "      <th>221246</th>\n",
       "      <td>36.0</td>\n",
       "    </tr>\n",
       "    <tr>\n",
       "      <th>...</th>\n",
       "      <td>...</td>\n",
       "    </tr>\n",
       "    <tr>\n",
       "      <th>124415</th>\n",
       "      <td>7.0</td>\n",
       "    </tr>\n",
       "    <tr>\n",
       "      <th>107164</th>\n",
       "      <td>28778.0</td>\n",
       "    </tr>\n",
       "    <tr>\n",
       "      <th>136701</th>\n",
       "      <td>600.0</td>\n",
       "    </tr>\n",
       "    <tr>\n",
       "      <th>151694</th>\n",
       "      <td>731.8</td>\n",
       "    </tr>\n",
       "    <tr>\n",
       "      <th>126573</th>\n",
       "      <td>204700.0</td>\n",
       "    </tr>\n",
       "  </tbody>\n",
       "</table>\n",
       "<p>191070 rows × 1 columns</p>\n",
       "</div>"
      ],
      "text/plain": [
       "        Production\n",
       "117915       264.0\n",
       "137182       200.0\n",
       "110496    406978.0\n",
       "72925         86.0\n",
       "221246        36.0\n",
       "...            ...\n",
       "124415         7.0\n",
       "107164     28778.0\n",
       "136701       600.0\n",
       "151694       731.8\n",
       "126573    204700.0\n",
       "\n",
       "[191070 rows x 1 columns]"
      ]
     },
     "execution_count": 29,
     "metadata": {},
     "output_type": "execute_result"
    }
   ],
   "source": [
    "y_train"
   ]
  },
  {
   "cell_type": "markdown",
   "id": "6d05030d",
   "metadata": {},
   "source": [
    "Random Forest Regressor"
   ]
  },
  {
   "cell_type": "code",
   "execution_count": 40,
   "id": "dc132b09",
   "metadata": {},
   "outputs": [],
   "source": [
    "from sklearn.ensemble import RandomForestRegressor\n",
    "model1 = RandomForestRegressor(n_estimators=100,random_state = 42)\n",
    "model1.fit(x_train,y_train.values.ravel())\n",
    "preds = model1.predict(x_test)"
   ]
  },
  {
   "cell_type": "code",
   "execution_count": 41,
   "id": "5aa3d4d7",
   "metadata": {},
   "outputs": [
    {
     "name": "stdout",
     "output_type": "stream",
     "text": [
      "R2score: 0.8708738075443593\n"
     ]
    }
   ],
   "source": [
    "from sklearn.metrics import r2_score,mean_absolute_percentage_error\n",
    "r = r2_score(y_test,preds)\n",
    "print(\"R2score:\",r)"
   ]
  },
  {
   "cell_type": "code",
   "execution_count": 32,
   "id": "d5f32e1d",
   "metadata": {},
   "outputs": [
    {
     "data": {
      "text/html": [
       "<div>\n",
       "<style scoped>\n",
       "    .dataframe tbody tr th:only-of-type {\n",
       "        vertical-align: middle;\n",
       "    }\n",
       "\n",
       "    .dataframe tbody tr th {\n",
       "        vertical-align: top;\n",
       "    }\n",
       "\n",
       "    .dataframe thead th {\n",
       "        text-align: right;\n",
       "    }\n",
       "</style>\n",
       "<table border=\"1\" class=\"dataframe\">\n",
       "  <thead>\n",
       "    <tr style=\"text-align: right;\">\n",
       "      <th></th>\n",
       "      <th>Production</th>\n",
       "    </tr>\n",
       "  </thead>\n",
       "  <tbody>\n",
       "    <tr>\n",
       "      <th>41416</th>\n",
       "      <td>1117.0</td>\n",
       "    </tr>\n",
       "    <tr>\n",
       "      <th>183710</th>\n",
       "      <td>208.0</td>\n",
       "    </tr>\n",
       "    <tr>\n",
       "      <th>71982</th>\n",
       "      <td>58.0</td>\n",
       "    </tr>\n",
       "    <tr>\n",
       "      <th>125632</th>\n",
       "      <td>46100.0</td>\n",
       "    </tr>\n",
       "    <tr>\n",
       "      <th>180040</th>\n",
       "      <td>231.0</td>\n",
       "    </tr>\n",
       "    <tr>\n",
       "      <th>...</th>\n",
       "      <td>...</td>\n",
       "    </tr>\n",
       "    <tr>\n",
       "      <th>45953</th>\n",
       "      <td>85.0</td>\n",
       "    </tr>\n",
       "    <tr>\n",
       "      <th>128064</th>\n",
       "      <td>21200.0</td>\n",
       "    </tr>\n",
       "    <tr>\n",
       "      <th>64661</th>\n",
       "      <td>26300.0</td>\n",
       "    </tr>\n",
       "    <tr>\n",
       "      <th>127147</th>\n",
       "      <td>7.0</td>\n",
       "    </tr>\n",
       "    <tr>\n",
       "      <th>88625</th>\n",
       "      <td>322.0</td>\n",
       "    </tr>\n",
       "  </tbody>\n",
       "</table>\n",
       "<p>47768 rows × 1 columns</p>\n",
       "</div>"
      ],
      "text/plain": [
       "        Production\n",
       "41416       1117.0\n",
       "183710       208.0\n",
       "71982         58.0\n",
       "125632     46100.0\n",
       "180040       231.0\n",
       "...            ...\n",
       "45953         85.0\n",
       "128064     21200.0\n",
       "64661      26300.0\n",
       "127147         7.0\n",
       "88625        322.0\n",
       "\n",
       "[47768 rows x 1 columns]"
      ]
     },
     "execution_count": 32,
     "metadata": {},
     "output_type": "execute_result"
    }
   ],
   "source": [
    "y_test"
   ]
  },
  {
   "cell_type": "code",
   "execution_count": 33,
   "id": "06eeee3d",
   "metadata": {},
   "outputs": [
    {
     "data": {
      "text/plain": [
       "array([1.01636833e+03, 1.32973333e+02, 5.12522167e+02, ...,\n",
       "       2.97928867e+04, 2.43578129e+01, 1.01588833e+03])"
      ]
     },
     "execution_count": 33,
     "metadata": {},
     "output_type": "execute_result"
    }
   ],
   "source": [
    "preds"
   ]
  },
  {
   "cell_type": "markdown",
   "id": "f8e557ad",
   "metadata": {},
   "source": [
    "Linear Regression"
   ]
  },
  {
   "cell_type": "code",
   "execution_count": 34,
   "id": "db1e3d4b",
   "metadata": {},
   "outputs": [
    {
     "data": {
      "text/plain": [
       "LinearRegression()"
      ]
     },
     "execution_count": 34,
     "metadata": {},
     "output_type": "execute_result"
    }
   ],
   "source": [
    "from sklearn.linear_model import LinearRegression\n",
    "model2 = LinearRegression()\n",
    "model2.fit(x_train,y_train)"
   ]
  },
  {
   "cell_type": "code",
   "execution_count": 35,
   "id": "be9a2fbf",
   "metadata": {},
   "outputs": [],
   "source": [
    "preds = model2.predict(x_test)"
   ]
  },
  {
   "cell_type": "code",
   "execution_count": 36,
   "id": "86955b15",
   "metadata": {},
   "outputs": [
    {
     "name": "stdout",
     "output_type": "stream",
     "text": [
      "r2-score: 0.17571134088754659\n"
     ]
    }
   ],
   "source": [
    "from sklearn.metrics import mean_squared_error, r2_score\n",
    "k = r2_score(y_test,preds)\n",
    "print(\"r2-score:\",k)"
   ]
  },
  {
   "cell_type": "code",
   "execution_count": null,
   "id": "f216e2db",
   "metadata": {},
   "outputs": [],
   "source": []
  }
 ],
 "metadata": {
  "kernelspec": {
   "display_name": "Python 3 (ipykernel)",
   "language": "python",
   "name": "python3"
  },
  "language_info": {
   "codemirror_mode": {
    "name": "ipython",
    "version": 3
   },
   "file_extension": ".py",
   "mimetype": "text/x-python",
   "name": "python",
   "nbconvert_exporter": "python",
   "pygments_lexer": "ipython3",
   "version": "3.9.13"
  }
 },
 "nbformat": 4,
 "nbformat_minor": 5
}
